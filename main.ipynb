{
 "cells": [
  {
   "cell_type": "code",
   "execution_count": 84,
   "metadata": {},
   "outputs": [],
   "source": [
    "import numpy as np\n",
    "import matplotlib.pyplot as plt\n",
    "import time\n",
    "import pandas as pd\n",
    "from tqdm import tqdm\n",
    "import os"
   ]
  },
  {
   "cell_type": "code",
   "execution_count": 67,
   "metadata": {},
   "outputs": [
    {
     "name": "stdout",
     "output_type": "stream",
     "text": [
      ">> Max node: 4039\n",
      ">> Adj_matrix: \n",
      " [[0. 1. 1. ... 0. 0. 0.]\n",
      " [1. 0. 0. ... 0. 0. 0.]\n",
      " [1. 0. 0. ... 0. 0. 0.]\n",
      " ...\n",
      " [0. 0. 0. ... 0. 0. 0.]\n",
      " [0. 0. 0. ... 0. 0. 0.]\n",
      " [0. 0. 0. ... 0. 0. 0.]]\n"
     ]
    },
    {
     "data": {
      "text/plain": [
       "(4039, 4039)"
      ]
     },
     "execution_count": 67,
     "metadata": {},
     "output_type": "execute_result"
    }
   ],
   "source": [
    "# mình có S (n*n), X là symetric\n",
    "# G >= 0, X >= 0\n",
    "# S = X * X^T\n",
    "# np.random.seed(42)\n",
    "\n",
    "\n",
    "\n",
    "def load_adj_matrix(filename: str):\n",
    "    \"\"\"\n",
    "     file:  dimacs10-football/out.dimacs10-football\" or \"facebook_combined.txt\"\n",
    "     Undirected graph\n",
    "    \"\"\"\n",
    "    with open(filename, \"r\") as file:\n",
    "        adj_list = np.array([tuple(map(int, line.split())) for line in file])\n",
    "\n",
    "    max_node = max(max(edge) for edge in adj_list) + 1\n",
    "    adj_matrix = np.zeros((max_node, max_node))\n",
    "\n",
    "    for node1, node2 in adj_list:\n",
    "        adj_matrix[node1][node2] = 1\n",
    "        adj_matrix[node2][node1] = 1\n",
    "\n",
    "    print('>> Max node:', max_node)\n",
    "    print('>> Adj_matrix: \\n', adj_matrix)\n",
    "    return adj_matrix, adj_list\n",
    "\n",
    "G, adj_list = load_adj_matrix(\"facebook_combined.txt\")\n",
    "\n",
    "# G = np.random.randint(0, 1, (2000,2000))\n",
    "G.shape"
   ]
  },
  {
   "cell_type": "code",
   "execution_count": 99,
   "metadata": {},
   "outputs": [],
   "source": [
    "class SNMF():\n",
    "    def __init__(\n",
    "        self,\n",
    "        adj_matrix: np.ndarray,\n",
    "        adj_list: np.ndarray = None,\n",
    "        dimensions: int = 32,\n",
    "        iterations: int = 600,\n",
    "        seed: int = 42\n",
    "    ):\n",
    "        self.adj_matrix = adj_matrix\n",
    "        self.adj_list = adj_list\n",
    "        self.num_node = adj_matrix.shape[0]\n",
    "        self.num_edge = adj_list.shape[0]\n",
    "        self.dimensions = dimensions\n",
    "        self.iterations = iterations\n",
    "        self.seed = seed\n",
    "\n",
    "\n",
    "    def modularity(self, adj_matrix, communities: np.ndarray):\n",
    "        assert adj_matrix.shape[0] == communities.shape[0]\n",
    "        assert len(communities.shape) == 1\n",
    "        assert adj_matrix.shape[0] == adj_matrix.shape[1]\n",
    "        n = adj_matrix.shape[0]\n",
    "        m = np.sum(adj_matrix) / 2 # number of edges\n",
    "        k = np.sum(adj_matrix, axis=1) # degree of each node\n",
    "\n",
    "        Q = 0\n",
    "        for i in range(n):\n",
    "            for j in range(n):\n",
    "                sig = 1 if communities[i] == communities[j] else 0\n",
    "                Q += (adj_matrix[i][j] - (k[i] * k[j] / (2*m))) * sig / (2*m)\n",
    "\n",
    "        return Q\n",
    "\n",
    "    def modularity_dict(self, adj_matrix, communities_dict: dict):\n",
    "        n = adj_matrix.shape[0]\n",
    "        m = np.sum(adj_matrix) / 2 # number of edges\n",
    "        k = np.sum(adj_matrix, axis=1) # degree of each node\n",
    "\n",
    "        Q = 0\n",
    "        for community in communities_dict.values():\n",
    "            for i in community:\n",
    "                for j in community:\n",
    "                    Q += (adj_matrix[i][j] - (k[i] * k[j] / (2*m))) / (2*m)\n",
    "\n",
    "        return Q\n",
    "    \n",
    "    def _set_seed(self):\n",
    "        np.random.seed(self.seed)\n",
    "\n",
    "    def update(self, G,X):\n",
    "        numerator = G @ X # Top\n",
    "        denominator = 2 * X @ X.T @ X  # Bottom\n",
    "        newX = X * (1/2 + (numerator / denominator))\n",
    "        return newX\n",
    "\n",
    "    def get_loss(self, G,X):\n",
    "        tar = G - X @ X.T\n",
    "        loss = np.linalg.norm(tar) ** 2\n",
    "        return loss\n",
    "\n",
    "\n",
    "    def fit(self, dim: int = 32, clear_stats: bool = False):\n",
    "        self._set_seed()\n",
    "\n",
    "        X = np.random.rand(self.num_node, dim) # Start\n",
    "        losses = []\n",
    "\n",
    "        os.makedirs(f'results/snmf/runs_{dim}', exist_ok=True)\n",
    "        print(f\"Directory results/snmf/runs_{dim} created successfully!\")\n",
    "\n",
    "        # Iteration\n",
    "        start_time = time.time()\n",
    "        for i in tqdm(range(self.iterations)):\n",
    "            # print(f'>> Iter {i}')\n",
    "            X = self.update(self.adj_matrix,X)\n",
    "            loss = self.get_loss(self.adj_matrix,X)\n",
    "\n",
    "            if i > 0 and losses[-1] - loss < 1e-8:\n",
    "                print(f'>> Early stopping at iteration {i}')\n",
    "                break\n",
    "\n",
    "            losses.append(loss)\n",
    "        elapsed_time = time.time() - start_time\n",
    "        \n",
    "        print('Done iteration!!!')\n",
    "\n",
    "        # Loss-epochs\n",
    "        losses_df = pd.DataFrame({\"epoch\": range(len(losses)), \"loss\": losses})\n",
    "        losses_df.to_csv(f'results/snmf/runs_{dim}/losses.csv', index=False)\n",
    "        print(\"Done saved losses CSV\")\n",
    "        \n",
    "        # Save images \n",
    "        plt.plot(losses)\n",
    "        plt.xlabel(\"Number of epochs\")  # Adjust as needed\n",
    "        plt.ylabel(\"Loss\")\n",
    "        plt.title(f\"Loss of SNMF over time with {dim} communities\")\n",
    "        plt.savefig(f'results/snmf/runs_{dim}/losses.png')\n",
    "        print('Done saved losses image')\n",
    "\n",
    "        # Save X\n",
    "        np.savetxt(f'results/snmf/runs_{dim}/X.txt', X)\n",
    "        print('Done saved X')\n",
    "\n",
    "        # Save probabilities\n",
    "        normalizedX = X / np.sum(X, axis=1, keepdims=True)\n",
    "        np.savetxt(f'results/snmf/runs_{dim}/prob.txt', normalizedX, fmt='%.2f')\n",
    "        print('Done saved Probabilities')\n",
    "\n",
    "\n",
    "        # Community\n",
    "        communities_list = np.argmax(X, axis=1)\n",
    "        communities_dict = {}\n",
    "        for idx, cluster in enumerate(communities_list):\n",
    "            if cluster in communities_dict:\n",
    "                communities_dict[cluster].append(idx)\n",
    "            else:\n",
    "                communities_dict[cluster] = [idx]\n",
    "\n",
    "        np.savetxt(f'results/snmf/runs_{dim}/communities.txt', communities_list, fmt='%d')\n",
    "        print('Done saved Community')\n",
    "\n",
    "        # num_communities, modularity, epoch_stop, elapsed_time\n",
    "        stats_path = f\"results/snmf/stats.csv\"\n",
    "\n",
    "        if clear_stats:\n",
    "            os.remove(stats_path)\n",
    "\n",
    "        # Check if the file exists\n",
    "        if not os.path.exists(stats_path):\n",
    "            stats_df = pd.DataFrame(columns=[\"num_communities\", \"modularity\", \"losses\", \"epoch_stop\", \"elapsed_time\"])\n",
    "        else:\n",
    "            stats_df = pd.read_csv(stats_path)\n",
    "\n",
    "        new_row = {\n",
    "            \"num_communities\": dim,\n",
    "            \"modularity\": self.modularity_dict(self.adj_matrix, communities_dict),\n",
    "            \"losses\": losses[-1],\n",
    "            \"epoch_stop\": i,\n",
    "            \"elapsed_time\": elapsed_time\n",
    "        }\n",
    "        new_df = pd.DataFrame([new_row])\n",
    "        stats_df = pd.concat([stats_df, new_df], ignore_index=True)\n",
    "\n",
    "        stats_df.to_csv(stats_path, index=False)\n",
    "        print('Done save general stats')\n",
    "\n",
    "    def fit_all(self, low: int, high: int):\n",
    "        for comm in range(low, high + 1):\n",
    "            print(f'>>> Community {comm} >>>')\n",
    "            self.fit(comm)\n"
   ]
  },
  {
   "cell_type": "code",
   "execution_count": 106,
   "metadata": {},
   "outputs": [
    {
     "name": "stdout",
     "output_type": "stream",
     "text": [
      ">> Max node: 4039\n",
      ">> Adj_matrix: \n",
      " [[0. 1. 1. ... 0. 0. 0.]\n",
      " [1. 0. 0. ... 0. 0. 0.]\n",
      " [1. 0. 0. ... 0. 0. 0.]\n",
      " ...\n",
      " [0. 0. 0. ... 0. 0. 0.]\n",
      " [0. 0. 0. ... 0. 0. 0.]\n",
      " [0. 0. 0. ... 0. 0. 0.]]\n"
     ]
    }
   ],
   "source": [
    "G, adj_list = load_adj_matrix(\"facebook_combined.txt\")\n",
    "snmf = SNMF(G,adj_list)\n",
    "# snmf.fit_all(2,100)"
   ]
  },
  {
   "cell_type": "code",
   "execution_count": 110,
   "metadata": {},
   "outputs": [
    {
     "data": {
      "image/png": "[encoded data removed]",
      "text/plain": [
       "<Figure size 1000x600 with 1 Axes>"
      ]
     },
     "metadata": {},
     "output_type": "display_data"
    }
   ],
   "source": [
    "df = pd.read_csv(\"results/snmf/stats.csv\")\n",
    "\n",
    "# Extract the relevant columns\n",
    "num_communities = df[\"num_communities\"]\n",
    "modularity = df[\"modularity\"]\n",
    "\n",
    "# Create the line chart\n",
    "plt.figure(figsize=(10, 6))  # Adjust figure size as needed\n",
    "plt.plot(num_communities, modularity)\n",
    "\n",
    "# Highlight the value at 16\n",
    "# index_16 = num_communities.index[num_communities == 16][0]  # Find the index\n",
    "# plt.plot(index_16, modularity[index_16], marker='o', markersize=15, color='red', label='num_communities = 16')\n",
    "\n",
    "\n",
    "# Customize the chart\n",
    "plt.xlabel(\"Number of Communities\")\n",
    "plt.ylabel(\"Modularity\")\n",
    "plt.title(\"Modularity vs. Number of Communities\")\n",
    "plt.grid(True)\n",
    "\n",
    "# Optional: Add markers for better visualization\n",
    "plt.plot(num_communities, modularity, marker='o', linestyle='--')\n",
    "\n",
    "# Show the plot\n",
    "plt.show()"
   ]
  },
  {
   "cell_type": "code",
   "execution_count": null,
   "metadata": {},
   "outputs": [],
   "source": [
    "# #Comm: 16 \n",
    "# Modularity: 0.6785339412263144"
   ]
  },
  {
   "cell_type": "code",
   "execution_count": 119,
   "metadata": {},
   "outputs": [
    {
     "data": {
      "text/plain": [
       "(4039,)"
      ]
     },
     "execution_count": 119,
     "metadata": {},
     "output_type": "execute_result"
    }
   ],
   "source": [
    "comm = np.loadtxt('results/snmf/runs_16/communities.txt', dtype='int')\n",
    "comm.shape"
   ]
  },
  {
   "cell_type": "code",
   "execution_count": 145,
   "metadata": {},
   "outputs": [
    {
     "data": {
      "text/html": [
       "<div>\n",
       "<style scoped>\n",
       "    .dataframe tbody tr th:only-of-type {\n",
       "        vertical-align: middle;\n",
       "    }\n",
       "\n",
       "    .dataframe tbody tr th {\n",
       "        vertical-align: top;\n",
       "    }\n",
       "\n",
       "    .dataframe thead th {\n",
       "        text-align: right;\n",
       "    }\n",
       "</style>\n",
       "<table border=\"1\" class=\"dataframe\">\n",
       "  <thead>\n",
       "    <tr style=\"text-align: right;\">\n",
       "      <th></th>\n",
       "      <th>id</th>\n",
       "      <th>node_color</th>\n",
       "    </tr>\n",
       "  </thead>\n",
       "  <tbody>\n",
       "    <tr>\n",
       "      <th>0</th>\n",
       "      <td>0</td>\n",
       "      <td>#d673f4</td>\n",
       "    </tr>\n",
       "    <tr>\n",
       "      <th>1</th>\n",
       "      <td>1</td>\n",
       "      <td>#d673f4</td>\n",
       "    </tr>\n",
       "    <tr>\n",
       "      <th>2</th>\n",
       "      <td>2</td>\n",
       "      <td>#d673f4</td>\n",
       "    </tr>\n",
       "    <tr>\n",
       "      <th>3</th>\n",
       "      <td>3</td>\n",
       "      <td>#d673f4</td>\n",
       "    </tr>\n",
       "    <tr>\n",
       "      <th>4</th>\n",
       "      <td>4</td>\n",
       "      <td>#d673f4</td>\n",
       "    </tr>\n",
       "  </tbody>\n",
       "</table>\n",
       "</div>"
      ],
      "text/plain": [
       "   id node_color\n",
       "0   0    #d673f4\n",
       "1   1    #d673f4\n",
       "2   2    #d673f4\n",
       "3   3    #d673f4\n",
       "4   4    #d673f4"
      ]
     },
     "execution_count": 145,
     "metadata": {},
     "output_type": "execute_result"
    }
   ],
   "source": [
    "comm = np.loadtxt('results/snmf/runs_16/communities.txt', dtype='int')\n",
    "df_community = pd.DataFrame({\"id\": range(len(comm)), \"community\": comm})\n",
    "\n",
    "colors = sns.color_palette(\"husl\", n_colors=16).as_hex()\n",
    "df_colors = pd.DataFrame({\"community\": range(16), \"node_color\": colors})\n",
    "\n",
    "\n",
    "df_combined = pd.merge(df_community,df_colors, on=\"community\", how='inner')\n",
    "df_combined = df_combined[['id', 'node_color']]\n",
    "\n",
    "df_combined.to_csv('facebook_metadata.csv', index=False)\n",
    "df_combined.head(5)"
   ]
  },
  {
   "cell_type": "code",
   "execution_count": null,
   "metadata": {},
   "outputs": [],
   "source": [
    "# Overlapping\n",
    "# Làm sao tìm được số communities\n",
    "# Làm sao đo được"
   ]
  }
 ],
 "metadata": {
  "kernelspec": {
   "display_name": "maxflow",
   "language": "python",
   "name": "python3"
  },
  "language_info": {
   "codemirror_mode": {
    "name": "ipython",
    "version": 3
   },
   "file_extension": ".py",
   "mimetype": "text/x-python",
   "name": "python",
   "nbconvert_exporter": "python",
   "pygments_lexer": "ipython3",
   "version": "3.9.18"
  }
 },
 "nbformat": 4,
 "nbformat_minor": 2
}
